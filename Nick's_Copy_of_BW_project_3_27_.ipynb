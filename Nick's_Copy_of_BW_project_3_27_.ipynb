{
 "cells": [
  {
   "cell_type": "markdown",
   "metadata": {
    "id": "ZJUKQVNTfQZG"
   },
   "source": [
    "##Set up\n"
   ]
  },
  {
   "cell_type": "code",
   "execution_count": 1,
   "metadata": {
    "id": "t0hfDKqrFfmg"
   },
   "outputs": [],
   "source": [
    "# lots of imports for now. Will strip it down later\n",
    "\n",
    "import sys\n",
    "import warnings\n",
    "warnings.filterwarnings(\"ignore\")\n",
    "\n",
    "import matplotlib.pyplot as plt\n",
    "import numpy as np\n",
    "import pandas as pd\n",
    "import seaborn as sns\n",
    "import random\n",
    "from sklearn.impute import SimpleImputer\n",
    "from sklearn.metrics import accuracy_score\n",
    "from sklearn.model_selection import train_test_split\n",
    "from sklearn.pipeline import make_pipeline\n",
    "from sklearn.metrics import classification_report, plot_roc_curve, roc_auc_score, plot_confusion_matrix\n",
    "from sklearn.inspection import permutation_importance\n",
    "\n",
    "from sklearn.metrics import mean_absolute_error\n",
    "from sklearn.preprocessing import StandardScaler\n",
    "from sklearn.metrics import r2_score\n",
    "from sklearn.neighbors import NearestNeighbors\n",
    "from sklearn.feature_extraction.text import CountVectorizer\n",
    "from sklearn.metrics.pairwise import cosine_similarity\n",
    "\n",
    "# import spotipy\n",
    "# from spotipy.oauth2 import SpotifyClientCredentials, SpotifyOAuth\n",
    "# import spotipy.util as util\n",
    "\n",
    "#from google.colab import files\n",
    "#from google.colab import drive\n",
    "#drive.mount('drive', force_remount=True)"
   ]
  },
  {
   "cell_type": "code",
   "execution_count": 2,
   "metadata": {
    "id": "yDgaTBQqW6--"
   },
   "outputs": [],
   "source": [
    "# data_path references data.csv from our github repo\n",
    "data_path = 'https://raw.githubusercontent.com/StephenSpicer/Spotify_Music_Discovery_LS_DS_BW/main/data/data.csv'"
   ]
  },
  {
   "cell_type": "markdown",
   "metadata": {
    "id": "y4wm9w1ife6L"
   },
   "source": [
    "## Wrangle Data\n"
   ]
  },
  {
   "cell_type": "code",
   "execution_count": 3,
   "metadata": {
    "id": "QxQbIPf-aaDV"
   },
   "outputs": [],
   "source": [
    "# Very basic function. Need to add new features if necessary.\n",
    "\n",
    "# Data Wrangle function:\n",
    "\n",
    "\n",
    "def wrangle(filepath):\n",
    "  df = pd.read_csv(filepath, parse_dates=['release_date'])\n",
    "\n",
    "  # fixing artist column by stripping  [   ]  '  and  \"\n",
    "  df['artists'] = df['artists'].str.strip(\"[]\")\n",
    "  df['artists'] = df['artists'].str.strip(\"'\")\n",
    "  df['artists'] = df['artists'].str.strip('\"')\n",
    "  df['artists'] = df['artists'].str.lower()\n",
    "  df['name'] = df['name'].str.lower()\n",
    "\n",
    "  # make new features\n",
    "  df['month'] = df['release_date'].dt.month\n",
    "\n",
    "  # set release date as the index\n",
    "  df.set_index('id', inplace=True)\n",
    "  \n",
    "  # rearraging similar features to be together to improve readability\n",
    "  df = df[['name', 'artists', 'valence', 'acousticness', 'danceability',\n",
    "        'energy', 'instrumentalness', 'liveness', 'loudness',  \n",
    "        'speechiness','tempo'\n",
    "        ]]\n",
    "  df['loudness'] = df.loudness.apply(lambda x: x / -100)\n",
    "  df['tempo'] = df.tempo.apply(lambda x: x / 1000)\n",
    "  df = df[df.loudness > 0.0]\n",
    "  df = df.drop(['name', 'artists'], axis=1)         \n",
    "  return df\n",
    "\n",
    "def the_key(filepath):\n",
    "  df = pd.read_csv(filepath, parse_dates=['release_date'])\n",
    "\n",
    "  # fixing artist column by stripping  [   ]  '  and  \"\n",
    "  df['artists'] = df['artists'].str.strip(\"[]\")\n",
    "  df['artists'] = df['artists'].str.strip(\"'\")\n",
    "  df['artists'] = df['artists'].str.strip('\"')\n",
    "  df['artists'] = df['artists'].str.lower()\n",
    "  df['name'] = df['name'].str.lower()\n",
    "\n",
    "  # make new features\n",
    "  df['month'] = df['release_date'].dt.month\n",
    "\n",
    "  # set release date as the index\n",
    "  df.set_index('id', inplace=True)\n",
    "\n",
    "  # rearraging similar features to be together to improve readability\n",
    "  df = df[['name', 'artists', 'valence', 'acousticness', 'danceability',\n",
    "        'energy', 'instrumentalness', 'liveness', 'loudness',  \n",
    "        'speechiness','tempo'\n",
    "        ]]\n",
    "  df['loudness'] = df.loudness.apply(lambda x: x / -100)\n",
    "  df['tempo'] = df.tempo.apply(lambda x: x / 1000)\n",
    "  df = df[df.loudness > 0.0]\n",
    "  \n",
    "  key = df[['name', 'artists']]\n",
    "\n",
    "  return key"
   ]
  },
  {
   "cell_type": "code",
   "execution_count": 4,
   "metadata": {
    "colab": {
     "base_uri": "https://localhost:8080/",
     "height": 235
    },
    "id": "ceRwh8DiR3C4",
    "outputId": "3fc60413-9724-4cc9-b7d3-782b00c7cb79"
   },
   "outputs": [
    {
     "data": {
      "text/html": [
       "<div>\n",
       "<style scoped>\n",
       "    .dataframe tbody tr th:only-of-type {\n",
       "        vertical-align: middle;\n",
       "    }\n",
       "\n",
       "    .dataframe tbody tr th {\n",
       "        vertical-align: top;\n",
       "    }\n",
       "\n",
       "    .dataframe thead th {\n",
       "        text-align: right;\n",
       "    }\n",
       "</style>\n",
       "<table border=\"1\" class=\"dataframe\">\n",
       "  <thead>\n",
       "    <tr style=\"text-align: right;\">\n",
       "      <th></th>\n",
       "      <th>valence</th>\n",
       "      <th>acousticness</th>\n",
       "      <th>danceability</th>\n",
       "      <th>energy</th>\n",
       "      <th>instrumentalness</th>\n",
       "      <th>liveness</th>\n",
       "      <th>loudness</th>\n",
       "      <th>speechiness</th>\n",
       "      <th>tempo</th>\n",
       "    </tr>\n",
       "    <tr>\n",
       "      <th>id</th>\n",
       "      <th></th>\n",
       "      <th></th>\n",
       "      <th></th>\n",
       "      <th></th>\n",
       "      <th></th>\n",
       "      <th></th>\n",
       "      <th></th>\n",
       "      <th></th>\n",
       "      <th></th>\n",
       "    </tr>\n",
       "  </thead>\n",
       "  <tbody>\n",
       "    <tr>\n",
       "      <th>0cS0A1fUEUd1EW3FcF8AEI</th>\n",
       "      <td>0.6340</td>\n",
       "      <td>0.991000</td>\n",
       "      <td>0.598</td>\n",
       "      <td>0.224</td>\n",
       "      <td>0.000522</td>\n",
       "      <td>0.3790</td>\n",
       "      <td>0.12628</td>\n",
       "      <td>0.0936</td>\n",
       "      <td>0.149976</td>\n",
       "    </tr>\n",
       "    <tr>\n",
       "      <th>0hbkKFIJm7Z05H8Zl9w30f</th>\n",
       "      <td>0.9500</td>\n",
       "      <td>0.643000</td>\n",
       "      <td>0.852</td>\n",
       "      <td>0.517</td>\n",
       "      <td>0.026400</td>\n",
       "      <td>0.0809</td>\n",
       "      <td>0.07261</td>\n",
       "      <td>0.0534</td>\n",
       "      <td>0.086889</td>\n",
       "    </tr>\n",
       "    <tr>\n",
       "      <th>11m7laMUgmOKqI3oYzuhne</th>\n",
       "      <td>0.6890</td>\n",
       "      <td>0.993000</td>\n",
       "      <td>0.647</td>\n",
       "      <td>0.186</td>\n",
       "      <td>0.000018</td>\n",
       "      <td>0.5190</td>\n",
       "      <td>0.12098</td>\n",
       "      <td>0.1740</td>\n",
       "      <td>0.097600</td>\n",
       "    </tr>\n",
       "    <tr>\n",
       "      <th>19Lc5SfJJ5O1oaxY0fpwfh</th>\n",
       "      <td>0.0422</td>\n",
       "      <td>0.000173</td>\n",
       "      <td>0.730</td>\n",
       "      <td>0.798</td>\n",
       "      <td>0.801000</td>\n",
       "      <td>0.1280</td>\n",
       "      <td>0.07311</td>\n",
       "      <td>0.0425</td>\n",
       "      <td>0.127997</td>\n",
       "    </tr>\n",
       "    <tr>\n",
       "      <th>2hJjbsLCytGsnAHfdsLejp</th>\n",
       "      <td>0.2990</td>\n",
       "      <td>0.295000</td>\n",
       "      <td>0.704</td>\n",
       "      <td>0.707</td>\n",
       "      <td>0.000246</td>\n",
       "      <td>0.4020</td>\n",
       "      <td>0.06036</td>\n",
       "      <td>0.0768</td>\n",
       "      <td>0.122076</td>\n",
       "    </tr>\n",
       "  </tbody>\n",
       "</table>\n",
       "</div>"
      ],
      "text/plain": [
       "                        valence  acousticness  danceability  energy  \\\n",
       "id                                                                    \n",
       "0cS0A1fUEUd1EW3FcF8AEI   0.6340      0.991000         0.598   0.224   \n",
       "0hbkKFIJm7Z05H8Zl9w30f   0.9500      0.643000         0.852   0.517   \n",
       "11m7laMUgmOKqI3oYzuhne   0.6890      0.993000         0.647   0.186   \n",
       "19Lc5SfJJ5O1oaxY0fpwfh   0.0422      0.000173         0.730   0.798   \n",
       "2hJjbsLCytGsnAHfdsLejp   0.2990      0.295000         0.704   0.707   \n",
       "\n",
       "                        instrumentalness  liveness  loudness  speechiness  \\\n",
       "id                                                                          \n",
       "0cS0A1fUEUd1EW3FcF8AEI          0.000522    0.3790   0.12628       0.0936   \n",
       "0hbkKFIJm7Z05H8Zl9w30f          0.026400    0.0809   0.07261       0.0534   \n",
       "11m7laMUgmOKqI3oYzuhne          0.000018    0.5190   0.12098       0.1740   \n",
       "19Lc5SfJJ5O1oaxY0fpwfh          0.801000    0.1280   0.07311       0.0425   \n",
       "2hJjbsLCytGsnAHfdsLejp          0.000246    0.4020   0.06036       0.0768   \n",
       "\n",
       "                           tempo  \n",
       "id                                \n",
       "0cS0A1fUEUd1EW3FcF8AEI  0.149976  \n",
       "0hbkKFIJm7Z05H8Zl9w30f  0.086889  \n",
       "11m7laMUgmOKqI3oYzuhne  0.097600  \n",
       "19Lc5SfJJ5O1oaxY0fpwfh  0.127997  \n",
       "2hJjbsLCytGsnAHfdsLejp  0.122076  "
      ]
     },
     "execution_count": 4,
     "metadata": {},
     "output_type": "execute_result"
    }
   ],
   "source": [
    "# read in the data and save it to df\n",
    "df = wrangle(data_path)\n",
    "df.head()"
   ]
  },
  {
   "cell_type": "code",
   "execution_count": 5,
   "metadata": {
    "colab": {
     "base_uri": "https://localhost:8080/",
     "height": 235
    },
    "id": "WvpFWRKj-23a",
    "outputId": "9fc9ee4c-7bb0-458c-c736-83ade74bab1f"
   },
   "outputs": [
    {
     "data": {
      "text/html": [
       "<div>\n",
       "<style scoped>\n",
       "    .dataframe tbody tr th:only-of-type {\n",
       "        vertical-align: middle;\n",
       "    }\n",
       "\n",
       "    .dataframe tbody tr th {\n",
       "        vertical-align: top;\n",
       "    }\n",
       "\n",
       "    .dataframe thead th {\n",
       "        text-align: right;\n",
       "    }\n",
       "</style>\n",
       "<table border=\"1\" class=\"dataframe\">\n",
       "  <thead>\n",
       "    <tr style=\"text-align: right;\">\n",
       "      <th></th>\n",
       "      <th>name</th>\n",
       "      <th>artists</th>\n",
       "    </tr>\n",
       "    <tr>\n",
       "      <th>id</th>\n",
       "      <th></th>\n",
       "      <th></th>\n",
       "    </tr>\n",
       "  </thead>\n",
       "  <tbody>\n",
       "    <tr>\n",
       "      <th>0cS0A1fUEUd1EW3FcF8AEI</th>\n",
       "      <td>keep a song in your soul</td>\n",
       "      <td>mamie smith</td>\n",
       "    </tr>\n",
       "    <tr>\n",
       "      <th>0hbkKFIJm7Z05H8Zl9w30f</th>\n",
       "      <td>i put a spell on you</td>\n",
       "      <td>screamin' jay hawkins</td>\n",
       "    </tr>\n",
       "    <tr>\n",
       "      <th>11m7laMUgmOKqI3oYzuhne</th>\n",
       "      <td>golfing papa</td>\n",
       "      <td>mamie smith</td>\n",
       "    </tr>\n",
       "    <tr>\n",
       "      <th>19Lc5SfJJ5O1oaxY0fpwfh</th>\n",
       "      <td>true house music - xavier santos &amp; carlos gomi...</td>\n",
       "      <td>oscar velazquez</td>\n",
       "    </tr>\n",
       "    <tr>\n",
       "      <th>2hJjbsLCytGsnAHfdsLejp</th>\n",
       "      <td>xuniverxe</td>\n",
       "      <td>mixe</td>\n",
       "    </tr>\n",
       "  </tbody>\n",
       "</table>\n",
       "</div>"
      ],
      "text/plain": [
       "                                                                     name  \\\n",
       "id                                                                          \n",
       "0cS0A1fUEUd1EW3FcF8AEI                           keep a song in your soul   \n",
       "0hbkKFIJm7Z05H8Zl9w30f                               i put a spell on you   \n",
       "11m7laMUgmOKqI3oYzuhne                                       golfing papa   \n",
       "19Lc5SfJJ5O1oaxY0fpwfh  true house music - xavier santos & carlos gomi...   \n",
       "2hJjbsLCytGsnAHfdsLejp                                          xuniverxe   \n",
       "\n",
       "                                      artists  \n",
       "id                                             \n",
       "0cS0A1fUEUd1EW3FcF8AEI            mamie smith  \n",
       "0hbkKFIJm7Z05H8Zl9w30f  screamin' jay hawkins  \n",
       "11m7laMUgmOKqI3oYzuhne            mamie smith  \n",
       "19Lc5SfJJ5O1oaxY0fpwfh        oscar velazquez  \n",
       "2hJjbsLCytGsnAHfdsLejp                   mixe  "
      ]
     },
     "execution_count": 5,
     "metadata": {},
     "output_type": "execute_result"
    }
   ],
   "source": [
    "key = the_key(data_path)\n",
    "key.head()"
   ]
  },
  {
   "cell_type": "markdown",
   "metadata": {
    "id": "2CPv__Z_pWLK"
   },
   "source": [
    "### significance testing\n"
   ]
  },
  {
   "cell_type": "code",
   "execution_count": 6,
   "metadata": {
    "id": "s8c_AL7xB6C3"
   },
   "outputs": [
    {
     "ename": "SyntaxError",
     "evalue": "invalid syntax (<ipython-input-6-307790f34f52>, line 10)",
     "output_type": "error",
     "traceback": [
      "\u001b[0;36m  File \u001b[0;32m\"<ipython-input-6-307790f34f52>\"\u001b[0;36m, line \u001b[0;32m10\u001b[0m\n\u001b[0;31m    check =\u001b[0m\n\u001b[0m            ^\u001b[0m\n\u001b[0;31mSyntaxError\u001b[0m\u001b[0;31m:\u001b[0m invalid syntax\n"
     ]
    }
   ],
   "source": [
    "# read in the data and save it to df\n",
    "df = wrangle(data_path)\n",
    "\n",
    "# Null hypothesis - target has a correlation with the selected metric. If the \n",
    "\n",
    "#year and month are not metrics we want our model to be trained on \n",
    "df = df.drop(['year', 'month', 'name'], axis=1)\n",
    "#let's find out what key has significance with\n",
    "target = 'key'\n",
    "check = \n",
    "\n",
    "def significance(x):\n",
    "  temp = []\n",
    "  target = ['valence', 'acousticness', 'danceability', 'energy', 'instrumentalness', 'liveness', 'loudness', 'speechiness', 'tempo', 'key', 'mode']\n",
    "  y = df[target]\n",
    "  for i in x:\n",
    "\n",
    "y = df[target]\n",
    "x = df[['valence', 'acousticness', 'danceability', 'energy', 'instrumentalness', 'liveness', 'loudness', 'speechiness', 'tempo', 'key', 'mode']]\n",
    "cutoff = 0.5\n",
    "mask = x< cutoff\n",
    "x_train = x.loc[mask]\n",
    "y_train = y.loc[mask]\n",
    "x_val, y_val = x.loc[~mask], y.loc[~mask]\n",
    "\n",
    "from sklearn.linear_model import LinearRegression\n",
    "from sklearn.metrics import mean_absolute_error\n",
    "from sklearn.metrics import r2_score\n",
    "from sklearn.metrics import mean_squared_error\n",
    "\n",
    "\n",
    "y_pred = [y.mean()]*len(y)\n",
    "print('Baseline MAE:', mean_absolute_error(y, y_pred))\n",
    "print(y_train.mean())\n"
   ]
  },
  {
   "cell_type": "code",
   "execution_count": null,
   "metadata": {
    "id": "BXf3Lfb9l7KC"
   },
   "outputs": [],
   "source": [
    "#it makes sense for the MAE to be close to 0 on a scale of 1-5, let's see if we can find out what key is derived from\n",
    "l1_model = LinearRegression()\n",
    "l1_model.fit(x,y)\n",
    "y_pred = l1_model.predict(x)\n",
    "print('train MAE', mean_absolute_error(y, y_pred))"
   ]
  },
  {
   "cell_type": "markdown",
   "metadata": {
    "id": "q02nmZvTqeW5"
   },
   "source": [
    "Here we see that our baseline and our training is very similar. Going forward we can test any column to see if it shows a significant difference between these two. If not then that column probably won't have a high vector value; which we can check later"
   ]
  },
  {
   "cell_type": "code",
   "execution_count": null,
   "metadata": {
    "id": "RsXXAqVAnY8J"
   },
   "outputs": [],
   "source": [
    "df = wrangle(data_path)\n",
    "target = 'key'\n",
    "y = df[target]\n",
    "df = df[['popularity']]\n",
    "l1_model = LinearRegression()\n",
    "l1_model.fit(x,y)\n",
    "y_pred = l1_model.predict(x)\n",
    "print('train MAE', mean_absolute_error(y, y_pred))"
   ]
  },
  {
   "cell_type": "code",
   "execution_count": null,
   "metadata": {
    "id": "42ONqW3OqI7A"
   },
   "outputs": [],
   "source": [
    "df = wrangle(data_path)\n",
    "target = 'key'\n",
    "y = df[target]\n",
    "df = df[['popularity']]\n",
    "y_pred = [y.mean()]*len(y)\n",
    "print('Baseline MAE:', mean_absolute_error(y, y_pred))"
   ]
  },
  {
   "cell_type": "code",
   "execution_count": null,
   "metadata": {
    "id": "kVCZXxlkn7Cd"
   },
   "outputs": [],
   "source": [
    "df = wrangle(data_path)\n",
    "target = 'key'\n",
    "y = df[target]\n",
    "df = df[['valence']]\n",
    "l1_model = LinearRegression()\n",
    "l1_model.fit(x,y)\n",
    "y_pred = l1_model.predict(x)\n",
    "print('train MAE', mean_absolute_error(y, y_pred))"
   ]
  },
  {
   "cell_type": "code",
   "execution_count": null,
   "metadata": {
    "id": "34-YKG1YqSV_"
   },
   "outputs": [],
   "source": [
    "df = wrangle(data_path)\n",
    "target = 'key'\n",
    "y = df[target]\n",
    "df = df[['valence']]\n",
    "y_pred = [y.mean()]*len(y)\n",
    "print('Baseline MAE:', mean_absolute_error(y, y_pred))"
   ]
  },
  {
   "cell_type": "markdown",
   "metadata": {
    "id": "HRIUrGGnq8MS"
   },
   "source": [
    "Key is doesn't seem to diverge based on any used, I am going to delete the 9 other boxes that relate to key, and note here that the MAE didn't change throughout. "
   ]
  },
  {
   "cell_type": "code",
   "execution_count": null,
   "metadata": {
    "id": "ywcNfCGPpc6Y"
   },
   "outputs": [],
   "source": [
    "df = wrangle(data_path)\n",
    "target = 'acousticness'\n",
    "y = df[target]\n",
    "df = df[['instrumentalness']]\n",
    "l1_model = LinearRegression()\n",
    "l1_model.fit(x,y)\n",
    "y_pred = l1_model.predict(x)\n",
    "print('train MAE', mean_absolute_error(y, y_pred))"
   ]
  },
  {
   "cell_type": "code",
   "execution_count": null,
   "metadata": {
    "id": "3GhS_DR9poWa"
   },
   "outputs": [],
   "source": [
    "df = wrangle(data_path)\n",
    "target = 'acousticness'\n",
    "y = df[target]\n",
    "df = df[['speechiness']]\n",
    "y_pred = [y.mean()]*len(y)\n",
    "print('Baseline MAE:', mean_absolute_error(y, y_pred))"
   ]
  },
  {
   "cell_type": "markdown",
   "metadata": {
    "id": "UW0obQBWrXZ2"
   },
   "source": [
    "Here we can see that acousticness has virtually 0 difference from instrumentalness, and a significant difference from speechiness. That being said, it is not the 3.05(06) that key had."
   ]
  },
  {
   "cell_type": "code",
   "execution_count": null,
   "metadata": {
    "id": "rLwQwNz7rpHo"
   },
   "outputs": [],
   "source": [
    "df = wrangle(data_path)\n",
    "target = 'acousticness'\n",
    "y = df[target]\n",
    "df = df[['popularity']]\n",
    "y_pred = [y.mean()]*len(y)\n",
    "print('Baseline MAE:', mean_absolute_error(y, y_pred))"
   ]
  },
  {
   "cell_type": "code",
   "execution_count": null,
   "metadata": {
    "id": "Jq2ib1duruc2"
   },
   "outputs": [],
   "source": [
    "df = wrangle(data_path)\n",
    "target = 'acousticness'\n",
    "y = df[target]\n",
    "df = df.valence\n",
    "y_pred = [y.mean()]*len(y)\n",
    "print('Baseline MAE:', mean_absolute_error(y, y_pred))"
   ]
  },
  {
   "cell_type": "code",
   "execution_count": null,
   "metadata": {
    "id": "UeE7Z3DIr0wQ"
   },
   "outputs": [],
   "source": [
    "df = wrangle(data_path)\n",
    "target = 'acousticness'\n",
    "y = df[target]\n",
    "df = df.danceability\n",
    "y_pred = [y.mean()]*len(y)\n",
    "print('Baseline MAE:', mean_absolute_error(y, y_pred))"
   ]
  },
  {
   "cell_type": "code",
   "execution_count": null,
   "metadata": {
    "id": "QPK-Zz_tsTVW"
   },
   "outputs": [],
   "source": [
    "df = wrangle(data_path)\n",
    "target = 'acousticness'\n",
    "y = df[target]\n",
    "df = df.energy\n",
    "y_pred = [y.mean()]*len(y)\n",
    "print('Baseline MAE:', mean_absolute_error(y, y_pred))"
   ]
  },
  {
   "cell_type": "code",
   "execution_count": null,
   "metadata": {
    "id": "OoAkIbwkr022"
   },
   "outputs": [],
   "source": [
    "df = wrangle(data_path)\n",
    "target = 'acousticness'\n",
    "y = df[target]\n",
    "df = df.liveness\n",
    "y_pred = [y.mean()]*len(y)\n",
    "print('Baseline MAE:', mean_absolute_error(y, y_pred))"
   ]
  },
  {
   "cell_type": "code",
   "execution_count": null,
   "metadata": {
    "id": "hRM-1LKsr09f"
   },
   "outputs": [],
   "source": [
    "df = wrangle(data_path)\n",
    "target = 'acousticness'\n",
    "y = df[target]\n",
    "df = df[['speechiness']]\n",
    "y_pred = [y.mean()]*len(y)\n",
    "print('Baseline MAE:', mean_absolute_error(y, y_pred))"
   ]
  },
  {
   "cell_type": "code",
   "execution_count": null,
   "metadata": {
    "id": "RmozKuwKr1Dk"
   },
   "outputs": [],
   "source": [
    "df = wrangle(data_path)\n",
    "target = 'acousticness'\n",
    "y = df[target]\n",
    "df = df.loudness\n",
    "y_pred = [y.mean()]*len(y)\n",
    "print('Baseline MAE:', mean_absolute_error(y, y_pred))"
   ]
  },
  {
   "cell_type": "code",
   "execution_count": null,
   "metadata": {
    "id": "_9eOAjE3r1J0"
   },
   "outputs": [],
   "source": [
    "df = wrangle(data_path)\n",
    "target = 'acousticness'\n",
    "y = df[target]\n",
    "df = df.tempo\n",
    "y_pred = [y.mean()]*len(y)\n",
    "print('Baseline MAE:', mean_absolute_error(y, y_pred))"
   ]
  },
  {
   "cell_type": "code",
   "execution_count": null,
   "metadata": {
    "id": "MoKKI2evr1Pw"
   },
   "outputs": [],
   "source": [
    "df = wrangle(data_path)\n",
    "target = 'acousticness'\n",
    "y = df[target]\n",
    "df = df.key\n",
    "y_pred = [y.mean()]*len(y)\n",
    "print('Baseline MAE:', mean_absolute_error(y, y_pred))"
   ]
  },
  {
   "cell_type": "markdown",
   "metadata": {
    "id": "2JD_k_SFtkjL"
   },
   "source": [
    "Key shouldn't have "
   ]
  },
  {
   "cell_type": "code",
   "execution_count": null,
   "metadata": {
    "id": "YcoDThkfr1We"
   },
   "outputs": [],
   "source": [
    "df = wrangle(data_path)\n",
    "target = 'acousticness'\n",
    "y = df[target]\n",
    "df = df[['speechiness']]\n",
    "y_pred = [y.mean()]*len(y)\n",
    "print('Baseline MAE:', mean_absolute_error(y, y_pred))"
   ]
  },
  {
   "cell_type": "markdown",
   "metadata": {
    "id": "jR9boGqV6pSx"
   },
   "source": [
    "## EDA\n"
   ]
  },
  {
   "cell_type": "markdown",
   "metadata": {
    "id": "evuElE236wiJ"
   },
   "source": [
    "## Split Data\n"
   ]
  },
  {
   "cell_type": "code",
   "execution_count": 10,
   "metadata": {
    "id": "yAEpDB6bWa6f"
   },
   "outputs": [],
   "source": [
    "# i used name as the target\n",
    "df = wrangle(data_path)\n",
    "x = df"
   ]
  },
  {
   "cell_type": "markdown",
   "metadata": {
    "id": "J_XIWcNo7sUB"
   },
   "source": [
    "### finding a solution to the loudness \"problem\" \n"
   ]
  },
  {
   "cell_type": "markdown",
   "metadata": {
    "id": "-XcmpYla7zu2"
   },
   "source": [
    "Above I divided loudness by 100 to get it between -1 and 1, I divided tempo by 1000 even though tempo should stop at >200 bmp. Maybe it matters that it's 5x smaller than it could be, but I don't think so. In order for us to normalize the data I first tried to figure out how many values of loudness were above and below 0. Turns out there were only 35 above 0 out of 178000 so i divided the entire column by -100 instead of 100 and then set the value of the column to > 0.0. "
   ]
  },
  {
   "cell_type": "code",
   "execution_count": 11,
   "metadata": {
    "id": "VvvSPaHb4jJ8"
   },
   "outputs": [],
   "source": [
    "# lx = x\n",
    "# lx = lx.set_index('loudness')\n",
    "# lx.head()"
   ]
  },
  {
   "cell_type": "code",
   "execution_count": 12,
   "metadata": {
    "id": "sc3j1-zk5yfa"
   },
   "outputs": [],
   "source": [
    "# cutoff = 0.0\n",
    "# mask = lx.index > cutoff\n",
    "# loud = lx.iloc[mask] \n",
    "# quiet = lx.iloc[~mask]\n",
    "# #print(quiet.count())\n",
    "# print(loud.count())\n"
   ]
  },
  {
   "cell_type": "markdown",
   "metadata": {
    "id": "qIl2CNoCwDdZ"
   },
   "source": [
    "## Establish Baseline"
   ]
  },
  {
   "cell_type": "markdown",
   "metadata": {
    "id": "rMty7cx6ym--"
   },
   "source": [
    "##Build Model"
   ]
  },
  {
   "cell_type": "code",
   "execution_count": 13,
   "metadata": {
    "id": "i4jjhte1YLUS"
   },
   "outputs": [],
   "source": [
    "def model(x):\n",
    "  model = NearestNeighbors(n_neighbors=10,\n",
    "                         n_jobs = -1)\n",
    "  knn_spotify = model.fit(x)\n",
    "  return knn_spotify"
   ]
  },
  {
   "cell_type": "code",
   "execution_count": 20,
   "metadata": {},
   "outputs": [],
   "source": [
    "knn_spotify = model(x)"
   ]
  },
  {
   "cell_type": "markdown",
   "metadata": {
    "id": "246q_9KOB7cM"
   },
   "source": [
    "##Link song name + artist to model\n"
   ]
  },
  {
   "cell_type": "code",
   "execution_count": 14,
   "metadata": {
    "colab": {
     "base_uri": "https://localhost:8080/"
    },
    "id": "Vi1PiEpwadQu",
    "outputId": "0c02c0cc-0bd7-4a14-f389-50f4860e5fd7"
   },
   "outputs": [
    {
     "data": {
      "text/plain": [
       "['11m7laMUgmOKqI3oYzuhne']"
      ]
     },
     "execution_count": 14,
     "metadata": {},
     "output_type": "execute_result"
    }
   ],
   "source": [
    "selected_song = key.loc[key['name'].str.contains(\"golfing papa\")]\n",
    "selected_song\n",
    "song_id = selected_song.index.tolist()\n",
    "song_id"
   ]
  },
  {
   "cell_type": "code",
   "execution_count": 22,
   "metadata": {
    "colab": {
     "base_uri": "https://localhost:8080/",
     "height": 0
    },
    "id": "tyb2HuMkdwmQ",
    "outputId": "e0cc5df6-092c-43cf-98a7-22f982f1c39d"
   },
   "outputs": [
    {
     "data": {
      "text/html": [
       "<div>\n",
       "<style scoped>\n",
       "    .dataframe tbody tr th:only-of-type {\n",
       "        vertical-align: middle;\n",
       "    }\n",
       "\n",
       "    .dataframe tbody tr th {\n",
       "        vertical-align: top;\n",
       "    }\n",
       "\n",
       "    .dataframe thead th {\n",
       "        text-align: right;\n",
       "    }\n",
       "</style>\n",
       "<table border=\"1\" class=\"dataframe\">\n",
       "  <thead>\n",
       "    <tr style=\"text-align: right;\">\n",
       "      <th></th>\n",
       "      <th>valence</th>\n",
       "      <th>acousticness</th>\n",
       "      <th>danceability</th>\n",
       "      <th>energy</th>\n",
       "      <th>instrumentalness</th>\n",
       "      <th>liveness</th>\n",
       "      <th>loudness</th>\n",
       "      <th>speechiness</th>\n",
       "      <th>tempo</th>\n",
       "    </tr>\n",
       "    <tr>\n",
       "      <th>id</th>\n",
       "      <th></th>\n",
       "      <th></th>\n",
       "      <th></th>\n",
       "      <th></th>\n",
       "      <th></th>\n",
       "      <th></th>\n",
       "      <th></th>\n",
       "      <th></th>\n",
       "      <th></th>\n",
       "    </tr>\n",
       "  </thead>\n",
       "  <tbody>\n",
       "    <tr>\n",
       "      <th>11m7laMUgmOKqI3oYzuhne</th>\n",
       "      <td>0.689</td>\n",
       "      <td>0.993</td>\n",
       "      <td>0.647</td>\n",
       "      <td>0.186</td>\n",
       "      <td>0.000018</td>\n",
       "      <td>0.519</td>\n",
       "      <td>0.12098</td>\n",
       "      <td>0.174</td>\n",
       "      <td>0.0976</td>\n",
       "    </tr>\n",
       "  </tbody>\n",
       "</table>\n",
       "</div>"
      ],
      "text/plain": [
       "                        valence  acousticness  danceability  energy  \\\n",
       "id                                                                    \n",
       "11m7laMUgmOKqI3oYzuhne    0.689         0.993         0.647   0.186   \n",
       "\n",
       "                        instrumentalness  liveness  loudness  speechiness  \\\n",
       "id                                                                          \n",
       "11m7laMUgmOKqI3oYzuhne          0.000018     0.519   0.12098        0.174   \n",
       "\n",
       "                         tempo  \n",
       "id                              \n",
       "11m7laMUgmOKqI3oYzuhne  0.0976  "
      ]
     },
     "execution_count": 22,
     "metadata": {},
     "output_type": "execute_result"
    }
   ],
   "source": [
    "song_row = x.loc[song_id, :]\n",
    "song_row"
   ]
  },
  {
   "cell_type": "code",
   "execution_count": 16,
   "metadata": {
    "colab": {
     "base_uri": "https://localhost:8080/"
    },
    "id": "AiWILrIlVrN4",
    "outputId": "c5d5016b-d0be-423b-ea02-9994dcf535ce"
   },
   "outputs": [
    {
     "data": {
      "text/plain": [
       "NearestNeighbors(n_jobs=-1, n_neighbors=10)"
      ]
     },
     "execution_count": 16,
     "metadata": {},
     "output_type": "execute_result"
    }
   ],
   "source": [
    "model(x)"
   ]
  },
  {
   "cell_type": "code",
   "execution_count": 17,
   "metadata": {
    "id": "j0U3d3j1eHDi"
   },
   "outputs": [
    {
     "ename": "NameError",
     "evalue": "name 'knn_spotify' is not defined",
     "output_type": "error",
     "traceback": [
      "\u001b[0;31m---------------------------------------------------------------------------\u001b[0m",
      "\u001b[0;31mNameError\u001b[0m                                 Traceback (most recent call last)",
      "\u001b[0;32m<ipython-input-17-bbe2d71aec73>\u001b[0m in \u001b[0;36m<module>\u001b[0;34m\u001b[0m\n\u001b[0;32m----> 1\u001b[0;31m \u001b[0mneigh_dist\u001b[0m\u001b[0;34m,\u001b[0m \u001b[0mneigh_index\u001b[0m \u001b[0;34m=\u001b[0m \u001b[0mknn_spotify\u001b[0m\u001b[0;34m.\u001b[0m\u001b[0mkneighbors\u001b[0m\u001b[0;34m(\u001b[0m\u001b[0msong_row\u001b[0m\u001b[0;34m)\u001b[0m\u001b[0;34m\u001b[0m\u001b[0;34m\u001b[0m\u001b[0m\n\u001b[0m",
      "\u001b[0;31mNameError\u001b[0m: name 'knn_spotify' is not defined"
     ]
    }
   ],
   "source": [
    "neigh_dist, neigh_index = knn_spotify.kneighbors(song_row)"
   ]
  },
  {
   "cell_type": "code",
   "execution_count": null,
   "metadata": {
    "id": "Og_xr5Vieyon"
   },
   "outputs": [],
   "source": [
    "neigh_dist"
   ]
  },
  {
   "cell_type": "code",
   "execution_count": null,
   "metadata": {
    "colab": {
     "base_uri": "https://localhost:8080/"
    },
    "id": "gsno95schN6S",
    "outputId": "8670d546-587a-4cb9-b9be-b54c036633fb"
   },
   "outputs": [],
   "source": [
    "print(neigh_index)"
   ]
  },
  {
   "cell_type": "code",
   "execution_count": null,
   "metadata": {
    "colab": {
     "base_uri": "https://localhost:8080/"
    },
    "id": "ZzlG1LRbrDVg",
    "outputId": "ef28ec30-f5d0-40ac-8c45-fd20efe69185"
   },
   "outputs": [],
   "source": [
    "key.iloc[79559]"
   ]
  },
  {
   "cell_type": "code",
   "execution_count": null,
   "metadata": {
    "colab": {
     "base_uri": "https://localhost:8080/"
    },
    "id": "HzAdT5_Wjxoe",
    "outputId": "10523d94-40da-41c7-ca92-071bba871cb3"
   },
   "outputs": [],
   "source": [
    "x.iloc[79559]\n",
    "#2l4Nmf7uR3wl4FZ6rre0Pp"
   ]
  },
  {
   "cell_type": "code",
   "execution_count": null,
   "metadata": {
    "colab": {
     "base_uri": "https://localhost:8080/"
    },
    "id": "s89Pq7-9tDp9",
    "outputId": "8211039b-d8ac-42e5-91d4-bfcc429f5447"
   },
   "outputs": [],
   "source": [
    "song_suggest = x.iloc[79559]\n",
    "song_suggest\n"
   ]
  },
  {
   "cell_type": "markdown",
   "metadata": {
    "id": "pA3tGoWq7PJ6"
   },
   "source": [
    "##Spotify API stuff\n"
   ]
  },
  {
   "cell_type": "code",
   "execution_count": null,
   "metadata": {
    "id": "gY-xlhc1u040"
   },
   "outputs": [],
   "source": [
    "client_id = 'id'\n",
    "client_secret = 'secret'\n",
    "\n",
    "scope = 'user-library-read'\n",
    "if len(sys.argv) > 1:\n",
    "  username = sys.argv[1]\n",
    "  else:\n",
    "    print(\"Usage: %s username\" % (sys.argv[0]))\n",
    "    sys.exit()"
   ]
  },
  {
   "cell_type": "code",
   "execution_count": null,
   "metadata": {
    "id": "aqHbGWi2vG5z"
   },
   "outputs": [],
   "source": [
    "auth_manager = SpotifyClientCredentials(client_id=client_id, client_secret=client_secret)\n",
    "token = util.prompt_for_user_token(scope, client_id= client_id, client_secret = client_secret, redirect_uri='http://localhost:8881/')\n",
    "sp = spotipy.Spotify(auth=token)"
   ]
  },
  {
   "cell_type": "code",
   "execution_count": null,
   "metadata": {
    "id": "-x0fVZD6vvm1"
   },
   "outputs": [],
   "source": [
    "#importing images for songs from api\n",
    "  id_name = {}\n",
    "  list_photo = {}\n",
    "  for i in sp.current_user_playlists()['items']:\n",
    "    id_name[i['name']] = i['uri'].split(':')[2]\n",
    "    list_photo[i['uri'].split(':')[2]] = i['images'][0]['url']\n",
    "  #the app below needs to be tied into the spotify app above\n",
    "  def vis_songs(something):\n",
    "    temp = df['url'].values\n",
    "    plt.figure(figsize=(15,int(0.625 * len(temp))))\n",
    "    columns = 5\n",
    "    for i, url in enumerate(temp):\n",
    "      plt.subplot(len(temp) / columns + 1, columns, i +1)\n",
    "      image = io.imread(url)\n",
    "      plt.imshow(image)\n",
    "      plt.xticks(color = 'w', fontsize = 0.1)\n",
    "      plt.yticks(color = 'w', fontsize = 0.1)\n",
    "      plt.xlabel(df['name'].values[i], fontsize = 12)\n",
    "      plt.tight_layout(h_pad=0.4, w_pad=0)\n",
    "      plt.subplots_adjust(wspace=None, hspace=None)\n",
    "\n",
    "    return plt.show()"
   ]
  },
  {
   "cell_type": "markdown",
   "metadata": {
    "id": "SSxS98MW7W9Q"
   },
   "source": [
    "##Main function for converting ID\n"
   ]
  },
  {
   "cell_type": "code",
   "execution_count": 24,
   "metadata": {
    "id": "Y6qufS8DCHzq"
   },
   "outputs": [],
   "source": [
    "def id_grab(title, artist):\n",
    "  key = the_key(data_path)\n",
    "  #input title or title+artist\n",
    "  if title and artist:\n",
    "    selected_artist = key.loc[key['artists'].str.contains(artist)]\n",
    "    selected_song = selected_artist.loc[selected_artist['name'].str.contains(title)]\n",
    "  else:\n",
    "    selected_song = key.loc[key['name'].str.contains(title)]\n",
    "\n",
    "  #search the key df and return the song id\n",
    "  song_id = selected_song.index.tolist()\n",
    "\n",
    "  #feed the song id into the model\n",
    "  song_row = x.loc[song_id, :]\n",
    "\n",
    "  #model finds the NN and gives you back song id\n",
    "  neigh_dist, neigh_index = knn_spotify.kneighbors(song_row)\n",
    "\n",
    "  #random nn\n",
    "  index = neigh_index.flat[0:10].tolist()\n",
    "  song_index = random.choice(index)\n",
    "\n",
    "  #convert the index of the suggested song to the song_id\n",
    "  #This code is returning the column headers, not the index atm\n",
    "  song_suggest = key.iloc[song_index].to_frame().columns.item()\n",
    "\n",
    "  #return the song id to plug into the spotify appi and have song play\n",
    "  return song_suggest"
   ]
  },
  {
   "cell_type": "code",
   "execution_count": 25,
   "metadata": {
    "colab": {
     "base_uri": "https://localhost:8080/",
     "height": 35
    },
    "id": "p7PzVSVRVaap",
    "outputId": "99bdbba4-363c-4e9d-86af-362b7949d774"
   },
   "outputs": [
    {
     "data": {
      "text/plain": [
       "'2aS8oHnf63s1vbWMSDLnCv'"
      ]
     },
     "execution_count": 25,
     "metadata": {},
     "output_type": "execute_result"
    }
   ],
   "source": [
    "id_grab('dancing', 'abba')"
   ]
  },
  {
   "cell_type": "markdown",
   "metadata": {
    "id": "F-83WPt3zmyT"
   },
   "source": [
    "The above function is almost done, here are the problems that need to be fixed:\n",
    "\n",
    "1. the song_suggest var isn't grabbing the index value, which is what I wanted, it's grabbing the column titles. \n",
    "2. the \"if title and artist\" doesn't work atm because it doens't know what to do w/ title and artist. This shouldn't be far off, but it's 4am and i need to sleep. "
   ]
  },
  {
   "cell_type": "code",
   "execution_count": null,
   "metadata": {
    "id": "5SmVvm7bzRrf"
   },
   "outputs": [],
   "source": [
    "# Needs work. Theoretically will take spotify song ID from id_grab and play song through spotify platform\n",
    "\n",
    "def spotify(song):\n",
    "  song_suggest = song\n",
    "  song_id_uri = spotify:artist:song_suggest\n",
    "  token = util.prompt_for_user_token(scope, client_id= client_id, client_secret = client_secret, redirect_uri='http://localhost:8881/')\n",
    "  sp = spotipy.Spotify(auth=token)\n",
    "  results = spotify.song(song_id_uri)\n",
    "  while results['next']:\n",
    "    results = spotify.next(results)\n",
    "  \n"
   ]
  },
  {
   "cell_type": "markdown",
   "metadata": {
    "id": "7_vEnrdN1g3d"
   },
   "source": [
    "This spotify app is just a starting point, i think song_id_uri should read as 'artist:song:2l4Nmf7uR3wl4FZ6rre0Pp' for example. \n",
    "\n",
    "the token and sp should get the user to pull up their spotify app in window. That would be sick. the results i pulled off a random page. Basically this code may or may not be relevant. "
   ]
  },
  {
   "cell_type": "markdown",
   "metadata": {
    "id": "H6giichb8pUD"
   },
   "source": [
    "##Check Metrics"
   ]
  },
  {
   "cell_type": "markdown",
   "metadata": {
    "id": "rG13cwO98sRO"
   },
   "source": [
    "##Tune Model"
   ]
  },
  {
   "cell_type": "markdown",
   "metadata": {
    "id": "Lx9zJFgEZk2v"
   },
   "source": [
    "## Communicate Results"
   ]
  }
 ],
 "metadata": {
  "colab": {
   "collapsed_sections": [
    "2CPv__Z_pWLK",
    "J_XIWcNo7sUB"
   ],
   "name": "Nick's_Copy_of_BW_project_3_27 .ipynb",
   "provenance": []
  },
  "kernelspec": {
   "display_name": "Python 3",
   "language": "python",
   "name": "python3"
  },
  "language_info": {
   "codemirror_mode": {
    "name": "ipython",
    "version": 3
   },
   "file_extension": ".py",
   "mimetype": "text/x-python",
   "name": "python",
   "nbconvert_exporter": "python",
   "pygments_lexer": "ipython3",
   "version": "3.7.6"
  }
 },
 "nbformat": 4,
 "nbformat_minor": 1
}
