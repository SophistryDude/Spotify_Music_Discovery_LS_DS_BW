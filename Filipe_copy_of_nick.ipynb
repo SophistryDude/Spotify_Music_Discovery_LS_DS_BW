{
  "nbformat": 4,
  "nbformat_minor": 0,
  "metadata": {
    "colab": {
      "name": "Filipe_Copy_of_BW_project_3_27_.ipynb",
      "provenance": [],
      "collapsed_sections": [
        "2CPv__Z_pWLK",
        "J_XIWcNo7sUB"
      ]
    },
    "kernelspec": {
      "name": "python3",
      "display_name": "Python 3"
    }
  },
  "cells": [
    {
      "cell_type": "markdown",
      "metadata": {
        "id": "ZJUKQVNTfQZG"
      },
      "source": [
        "##Set up\n"
      ]
    },
    {
      "cell_type": "code",
      "metadata": {
        "id": "t0hfDKqrFfmg"
      },
      "source": [
        "# lots of imports for now. Will strip it down later\n",
        "\n",
        "import sys\n",
        "import warnings\n",
        "warnings.filterwarnings(\"ignore\")\n",
        "\n",
        "import matplotlib.pyplot as plt\n",
        "import numpy as np\n",
        "import pandas as pd\n",
        "import seaborn as sns\n",
        "import random\n",
        "from sklearn.impute import SimpleImputer\n",
        "from sklearn.metrics import accuracy_score\n",
        "from sklearn.model_selection import train_test_split\n",
        "from sklearn.pipeline import make_pipeline\n",
        "from sklearn.metrics import classification_report, plot_roc_curve, roc_auc_score, plot_confusion_matrix\n",
        "from sklearn.inspection import permutation_importance\n",
        "\n",
        "from sklearn.metrics import mean_absolute_error\n",
        "from sklearn.preprocessing import StandardScaler\n",
        "from sklearn.metrics import r2_score\n",
        "from sklearn.neighbors import NearestNeighbors\n",
        "from sklearn.feature_extraction.text import CountVectorizer\n",
        "from sklearn.metrics.pairwise import cosine_similarity\n",
        "\n",
        "# import spotipy\n",
        "# from spotipy.oauth2 import SpotifyClientCredentials, SpotifyOAuth\n",
        "# import spotipy.util as util\n",
        "\n",
        "#from google.colab import files\n",
        "#from google.colab import drive\n",
        "#drive.mount('drive', force_remount=True)"
      ],
      "execution_count": 129,
      "outputs": []
    },
    {
      "cell_type": "code",
      "metadata": {
        "id": "yDgaTBQqW6--"
      },
      "source": [
        "# data_path references data.csv from our github repo\n",
        "data_path = 'https://raw.githubusercontent.com/StephenSpicer/Spotify_Music_Discovery_LS_DS_BW/main/data/data.csv'"
      ],
      "execution_count": 128,
      "outputs": []
    },
    {
      "cell_type": "markdown",
      "metadata": {
        "id": "y4wm9w1ife6L"
      },
      "source": [
        "## Wrangle Data\n"
      ]
    },
    {
      "cell_type": "code",
      "metadata": {
        "id": "QxQbIPf-aaDV"
      },
      "source": [
        "# cleaned wrangle functions:\n",
        "\n",
        "def wrangle(filepath):\n",
        "  df = pd.read_csv(filepath, parse_dates=['release_date'])\n",
        "  \n",
        "  #dropping name, artist column\n",
        "  df = df.drop(['name', 'artists'], axis=1)         \n",
        "\n",
        "\n",
        "  # set ID as the index\n",
        "  df.set_index('id', inplace=True)\n",
        "  \n",
        "  # rearraging similar features to be together to improve readability\n",
        "  df = df[['valence', 'acousticness', 'danceability',\n",
        "        'energy', 'instrumentalness', 'liveness', 'loudness',  \n",
        "        'speechiness','tempo'\n",
        "        ]]\n",
        "\n",
        "  # fixing loudness and tempo      \n",
        "  df['loudness'] = df.loudness.apply(lambda x: x / -100)\n",
        "  df['tempo'] = df.tempo.apply(lambda x: x / 1000)\n",
        "  df = df[df.loudness > 0.0]\n",
        "\n",
        "  return df\n",
        "\n",
        "def the_key(filepath):\n",
        "  df = pd.read_csv(filepath, parse_dates=['release_date'])\n",
        "\n",
        "  # fixing artist column by stripping  [   ]  '  and  \"\n",
        "  df['artists'] = df['artists'].str.strip(\"[]\")\n",
        "  df['artists'] = df['artists'].str.strip(\"'\")\n",
        "  df['artists'] = df['artists'].str.strip('\"')\n",
        "  df['artists'] = df['artists'].str.lower()\n",
        "  df['name'] = df['name'].str.lower()\n",
        "\n",
        "  # set id as the index\n",
        "  df.set_index('id', inplace=True)\n",
        "\n",
        "  # made changes down here (filipe)\n",
        "  # combined song name and artist\n",
        "  df['name_artist'] = df['name'] + ' - ' + df['artists']\n",
        "  \n",
        "  key = df['name_artist']\n",
        "\n",
        "  return key\n",
        "\n",
        "\n",
        "  "
      ],
      "execution_count": 127,
      "outputs": []
    },
    {
      "cell_type": "code",
      "metadata": {
        "id": "bo_LwSJuzec8"
      },
      "source": [
        "key = the_key(data_path)\n",
        "key.head()"
      ],
      "execution_count": null,
      "outputs": []
    },
    {
      "cell_type": "code",
      "metadata": {
        "id": "yAEpDB6bWa6f"
      },
      "source": [
        "# i used name as the target\n",
        "df = wrangle(data_path)\n",
        "x = df\n",
        "x.head()"
      ],
      "execution_count": null,
      "outputs": []
    },
    {
      "cell_type": "code",
      "metadata": {
        "id": "i4jjhte1YLUS"
      },
      "source": [
        "def create_fit_model(features_df):\n",
        "  model = NearestNeighbors(n_neighbors=10,\n",
        "                         n_jobs = -1)\n",
        "  knn_spotify = model.fit(x)\n",
        "  return knn_spotify"
      ],
      "execution_count": 34,
      "outputs": []
    },
    {
      "cell_type": "code",
      "metadata": {
        "id": "Y6qufS8DCHzq"
      },
      "source": [
        "# made changes here (filipe)\n",
        "# set the function to only ask for user input, and we can give instructions\n",
        "# on the webpage for the user to put in the name of the song and artist, \n",
        "# or any part of either.\n",
        "\n",
        "def recommended_songs(user_input):\n",
        "  key = the_key(data_path)\n",
        "  # no need to in, then statement. Will just find what name_artist combo contains the user_input  \n",
        "  selected_song = key.loc[key.str.contains(user_input)]\n",
        "\n",
        "  #search the key df and return the song id\n",
        "  song_id = selected_song.index.tolist()\n",
        "\n",
        "  #feed the song id into the model\n",
        "  song_row = x.loc[song_id, :]\n",
        "\n",
        "  #model finds the NN and gives you back song id\n",
        "  neigh_dist, neigh_index = knn_spotify.kneighbors(song_row)\n",
        "\n",
        "  #random nn\n",
        "  index = neigh_index.flat[0:10].tolist()\n",
        "  # song_index = random.choice(index)\n",
        "\n",
        "  #convert the index of the suggested song to the song_id\n",
        "  #This code is returning the column headers, not the index atm\n",
        "  # not sure how this code works, will talk to Nick.\n",
        "  # song_suggest = key.iloc[song_index].to_frame().columns.item()\n",
        "\n",
        "  # converting list to df for easier access\n",
        "  recom_songs = key.iloc[index].to_frame()\n",
        "   \n",
        "\n",
        "  #return the song id to plug into the spotify appi and have song play\n",
        "  return print(recom_songs['name_artist'])"
      ],
      "execution_count": 125,
      "outputs": []
    },
    {
      "cell_type": "code",
      "metadata": {
        "id": "p7PzVSVRVaap"
      },
      "source": [
        "recommended_songs('highway to hell')"
      ],
      "execution_count": null,
      "outputs": []
    },
    {
      "cell_type": "markdown",
      "metadata": {
        "id": "F-83WPt3zmyT"
      },
      "source": [
        "The above function is almost done, here are the problems that need to be fixed:\n",
        "\n",
        "1. the song_suggest var isn't grabbing the index value, which is what I wanted, it's grabbing the column titles. \n",
        "2. the \"if title and artist\" doesn't work atm because it doens't know what to do w/ title and artist. This shouldn't be far off, but it's 4am and i need to sleep. "
      ]
    },
    {
      "cell_type": "markdown",
      "metadata": {
        "id": "7_vEnrdN1g3d"
      },
      "source": [
        "This spotify app is just a starting point, i think song_id_uri should read as 'artist:song:2l4Nmf7uR3wl4FZ6rre0Pp' for example. \n",
        "\n",
        "the token and sp should get the user to pull up their spotify app in window. That would be sick. the results i pulled off a random page. Basically this code may or may not be relevant. "
      ]
    },
    {
      "cell_type": "markdown",
      "metadata": {
        "id": "pA3tGoWq7PJ6"
      },
      "source": [
        "##Spotify API stuff\n"
      ]
    },
    {
      "cell_type": "code",
      "metadata": {
        "id": "gY-xlhc1u040"
      },
      "source": [
        "client_id = 'id'\n",
        "client_secret = 'secret'\n",
        "\n",
        "scope = 'user-library-read'\n",
        "if len(sys.argv) > 1:\n",
        "  username = sys.argv[1]\n",
        "  else:\n",
        "    print(\"Usage: %s username\" % (sys.argv[0]))\n",
        "    sys.exit()"
      ],
      "execution_count": null,
      "outputs": []
    },
    {
      "cell_type": "code",
      "metadata": {
        "id": "aqHbGWi2vG5z"
      },
      "source": [
        "auth_manager = SpotifyClientCredentials(client_id=client_id, client_secret=client_secret)\n",
        "token = util.prompt_for_user_token(scope, client_id= client_id, client_secret = client_secret, redirect_uri='http://localhost:8881/')\n",
        "sp = spotipy.Spotify(auth=token)"
      ],
      "execution_count": null,
      "outputs": []
    },
    {
      "cell_type": "code",
      "metadata": {
        "id": "-x0fVZD6vvm1"
      },
      "source": [
        "#importing images for songs from api\n",
        "  id_name = {}\n",
        "  list_photo = {}\n",
        "  for i in sp.current_user_playlists()['items']:\n",
        "    id_name[i['name']] = i['uri'].split(':')[2]\n",
        "    list_photo[i['uri'].split(':')[2]] = i['images'][0]['url']\n",
        "  #the app below needs to be tied into the spotify app above\n",
        "  def vis_songs(something):\n",
        "    temp = df['url'].values\n",
        "    plt.figure(figsize=(15,int(0.625 * len(temp))))\n",
        "    columns = 5\n",
        "    for i, url in enumerate(temp):\n",
        "      plt.subplot(len(temp) / columns + 1, columns, i +1)\n",
        "      image = io.imread(url)\n",
        "      plt.imshow(image)\n",
        "      plt.xticks(color = 'w', fontsize = 0.1)\n",
        "      plt.yticks(color = 'w', fontsize = 0.1)\n",
        "      plt.xlabel(df['name'].values[i], fontsize = 12)\n",
        "      plt.tight_layout(h_pad=0.4, w_pad=0)\n",
        "      plt.subplots_adjust(wspace=None, hspace=None)\n",
        "\n",
        "    return plt.show()"
      ],
      "execution_count": null,
      "outputs": []
    },
    {
      "cell_type": "code",
      "metadata": {
        "id": "5SmVvm7bzRrf"
      },
      "source": [
        "# Needs work. Theoretically will take spotify song ID from id_grab and play song through spotify platform\n",
        "\n",
        "def spotify(song):\n",
        "  song_suggest = song\n",
        "  song_id_uri = spotify:artist:song_suggest\n",
        "  token = util.prompt_for_user_token(scope, client_id= client_id, client_secret = client_secret, redirect_uri='http://localhost:8881/')\n",
        "  sp = spotipy.Spotify(auth=token)\n",
        "  results = spotify.song(song_id_uri)\n",
        "  while results['next']:\n",
        "    results = spotify.next(results)\n",
        "  \n"
      ],
      "execution_count": null,
      "outputs": []
    }
  ]
}