{
  "nbformat": 4,
  "nbformat_minor": 0,
  "metadata": {
    "colab": {
      "name": "Copy of BW project 3.27",
      "provenance": [],
      "collapsed_sections": []
    },
    "kernelspec": {
      "name": "python3",
      "display_name": "Python 3"
    }
  },
  "cells": [
    {
      "cell_type": "markdown",
      "metadata": {
        "id": "ZJUKQVNTfQZG"
      },
      "source": [
        "##Set up\n"
      ]
    },
    {
      "cell_type": "code",
      "metadata": {
        "id": "t0hfDKqrFfmg"
      },
      "source": [
        "# lots of imports for now. Will strip it down later\n",
        "\n",
        "import sys\n",
        "\n",
        "import matplotlib.pyplot as plt\n",
        "import numpy as np\n",
        "import pandas as pd\n",
        "import seaborn as sns\n",
        "from sklearn.impute import SimpleImputer\n",
        "from sklearn.metrics import accuracy_score\n",
        "from sklearn.model_selection import train_test_split\n",
        "from sklearn.pipeline import make_pipeline\n",
        "from sklearn.preprocessing import FunctionTransformer\n",
        "from sklearn.ensemble import RandomForestClassifier\n",
        "from sklearn.ensemble import RandomForestRegressor\n",
        "from sklearn.metrics import classification_report, plot_roc_curve, roc_auc_score, plot_confusion_matrix\n",
        "from sklearn.inspection import permutation_importance\n",
        "\n",
        "from xgboost import XGBRegressor, XGBClassifier\n",
        "from sklearn.metrics import mean_absolute_error\n",
        "from sklearn.preprocessing import StandardScaler\n",
        "from sklearn.linear_model import LogisticRegression\n",
        "from sklearn.metrics import r2_score\n",
        "from sklearn.linear_model import Ridge\n",
        "from sklearn.\n",
        "\n",
        "#from google.colab import files\n",
        "#from google.colab import drive\n",
        "#drive.mount('drive', force_remount=True)"
      ],
      "execution_count": null,
      "outputs": []
    },
    {
      "cell_type": "code",
      "metadata": {
        "id": "yDgaTBQqW6--"
      },
      "source": [
        "# data_path references data.csv from our github repo\n",
        "data_path = 'https://raw.githubusercontent.com/StephenSpicer/Spotify_Music_Discovery_LS_DS_BW/main/data/data.csv'"
      ],
      "execution_count": null,
      "outputs": []
    },
    {
      "cell_type": "markdown",
      "metadata": {
        "id": "y4wm9w1ife6L"
      },
      "source": [
        "## Wrangle Data\n"
      ]
    },
    {
      "cell_type": "code",
      "metadata": {
        "id": "QxQbIPf-aaDV"
      },
      "source": [
        "# Very basic function. Need to add new features if necessary.\n",
        "\n",
        "# Data Wrangle function:\n",
        "\n",
        "\n",
        "def wrangle(filepath):\n",
        "  df = pd.read_csv(filepath, parse_dates=['release_date'])\n",
        "\n",
        "\n",
        "  #make new features\n",
        "  df['month'] = df['release_date'].dt.month\n",
        "\n",
        "\n",
        "  #set release date as the index\n",
        "  df.set_index('release_date', inplace=True)\n",
        "\n",
        "\n",
        "  #rearraging similar features to be together to improve readability\n",
        "  df = df[['id', 'artists', 'name', 'year', 'month', 'duration_ms', 'popularity',\n",
        "           'valence', 'acousticness', 'danceability',\n",
        "           'energy', 'instrumentalness', 'liveness', 'loudness',  \n",
        "           'speechiness','tempo', 'key',\n",
        "           'explicit', 'mode']]\n",
        "           \n",
        "  return df\n",
        "\n"
      ],
      "execution_count": null,
      "outputs": []
    },
    {
      "cell_type": "code",
      "metadata": {
        "id": "v7QnYGK-uror"
      },
      "source": [
        "# read in the data and save it to df\n",
        "df = wrangle(data_path)"
      ],
      "execution_count": null,
      "outputs": []
    },
    {
      "cell_type": "code",
      "metadata": {
        "id": "ceRwh8DiR3C4"
      },
      "source": [
        "df.head()"
      ],
      "execution_count": null,
      "outputs": []
    },
    {
      "cell_type": "markdown",
      "metadata": {
        "id": "jR9boGqV6pSx"
      },
      "source": [
        "## EDA\n"
      ]
    },
    {
      "cell_type": "markdown",
      "metadata": {
        "id": "evuElE236wiJ"
      },
      "source": [
        "## Split Data\n"
      ]
    },
    {
      "cell_type": "markdown",
      "metadata": {
        "id": "qIl2CNoCwDdZ"
      },
      "source": [
        "## Establish Baseline"
      ]
    },
    {
      "cell_type": "markdown",
      "metadata": {
        "id": "rMty7cx6ym--"
      },
      "source": [
        "##Build Model"
      ]
    },
    {
      "cell_type": "markdown",
      "metadata": {
        "id": "H6giichb8pUD"
      },
      "source": [
        "##Check Metrics"
      ]
    },
    {
      "cell_type": "markdown",
      "metadata": {
        "id": "rG13cwO98sRO"
      },
      "source": [
        "##Tune Model"
      ]
    },
    {
      "cell_type": "markdown",
      "metadata": {
        "id": "Lx9zJFgEZk2v"
      },
      "source": [
        "## Communicate Results"
      ]
    }
  ]
}