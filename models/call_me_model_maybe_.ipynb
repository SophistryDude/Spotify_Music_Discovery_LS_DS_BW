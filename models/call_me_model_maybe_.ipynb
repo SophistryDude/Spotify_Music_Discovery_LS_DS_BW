{
  "nbformat": 4,
  "nbformat_minor": 0,
  "metadata": {
    "colab": {
      "name": "call_me_model_maybe?.ipynb",
      "provenance": [],
      "collapsed_sections": []
    },
    "kernelspec": {
      "name": "python3",
      "display_name": "Python 3"
    },
    "language_info": {
      "name": "python"
    }
  },
  "cells": [
    {
      "cell_type": "code",
      "metadata": {
        "id": "P5phfHI19URH"
      },
      "source": [
        "import sys\n",
        "import warnings\n",
        "warnings.filterwarnings(\"ignore\")\n",
        "\n",
        "import matplotlib.pyplot as plt\n",
        "import numpy as np\n",
        "import pandas as pd\n",
        "import seaborn as sns\n",
        "import random\n",
        "from sklearn.impute import SimpleImputer\n",
        "from sklearn.metrics import accuracy_score\n",
        "from sklearn.model_selection import train_test_split\n",
        "from sklearn.pipeline import make_pipeline\n",
        "from sklearn.metrics import classification_report, plot_roc_curve, roc_auc_score, plot_confusion_matrix\n",
        "from sklearn.inspection import permutation_importance\n",
        "\n",
        "from sklearn.metrics import mean_absolute_error\n",
        "from sklearn.preprocessing import StandardScaler\n",
        "from sklearn.metrics import r2_score\n",
        "from sklearn.neighbors import NearestNeighbors\n",
        "from sklearn.feature_extraction.text import CountVectorizer\n",
        "from sklearn.metrics.pairwise import cosine_similarity\n",
        "\n",
        "\n",
        "from model import wrangle, the_key, model, id_grab, spotify, vis_songs"
      ],
      "execution_count": null,
      "outputs": []
    },
    {
      "cell_type": "code",
      "metadata": {
        "id": "SVJ7OJ969gm1"
      },
      "source": [
        "# data_path references data.csv from our github repo\n",
        "data_path = 'https://raw.githubusercontent.com/StephenSpicer/Spotify_Music_Discovery_LS_DS_BW/main/data/data.csv'"
      ],
      "execution_count": null,
      "outputs": []
    },
    {
      "cell_type": "code",
      "metadata": {
        "id": "2TIXoh9a_YjD"
      },
      "source": [
        "def create_app(data_path, title, artist):\n",
        "  #\n",
        "  df = wrangle(data_path)\n",
        "  key = the_key(data_path)\n",
        "  x = df\n",
        "  knn_spotify = model(x)\n",
        "  song_suggest = id_grab(title, artist)\n",
        "  spotify(song_suggest)\n",
        "  vis_songs(something)"
      ],
      "execution_count": null,
      "outputs": []
    }
  ]
}